{
 "cells": [
  {
   "cell_type": "code",
   "execution_count": null,
   "metadata": {
    "collapsed": false
   },
   "outputs": [],
   "source": [
    "import HyperbolicDiffEq; #reload(\"HyperbolicDiffEq\")\n",
    "using OrdinaryDiffEq\n",
    "\n",
    "using Plots; pyplot()\n",
    "using LaTeXStrings\n",
    "\n",
    "HCL=HyperbolicDiffEq\n",
    "LobattoLegendre = HCL.LobattoLegendre; UniformPeriodicMesh1D = HCL.UniformPeriodicMesh1D\n",
    "compute_coefficients = HCL.compute_coefficients; evaluate_coefficients = HCL.evaluate_coefficients\n",
    "semidiscretise = HCL.semidiscretise; UniformPeriodicFluxDiffDisc2D = HCL.UniformPeriodicFluxDiffDisc2D\n",
    "EnergyConservativeFlux = HCL.EnergyConservativeFlux; GodunovFLux = HCL.godunov\n",
    "EulerVar2D = HCL.EulerVar2D; conserved_variables = HCL.conserved_variables; SuliciuFlux=HCL.SuliciuFlux\n",
    "LocalLaxFriedrichsFlux = HCL.LocalLaxFriedrichsFlux; ChandrashekarFluxEC=HCL.ChandrashekarFluxEC\n",
    "IsmailRoeFluxEC=HCL.IsmailRoeFluxEC; CentralFlux=HCL.CentralFlux; RanochaFluxECandKEP=HCL.RanochaFluxECandKEP\n",
    "MorinishiFlux=HCL.MorinishiFlux; DucrosEtAlFlux=HCL.DucrosEtAlFlux; KennedyGruberFlux=HCL.KennedyGruberFlux\n",
    "PirozzoliFlux=HCL.PirozzoliFlux; integrate=HCL.integrate; kinetic_energy=HCL.kinetic_energy; entropy=HCL.entropy\n",
    "UniformPeriodicFluxDiffDisc3D=HCL.UniformPeriodicFluxDiffDisc3D\n",
    "\n",
    "const γ = 1.4\n",
    "balance_law = HCL.Euler{Float64,3}(γ)\n",
    "\n",
    "ϱ₀(x,y,z)  = 1.\n",
    "vx₀(x,y,z) = sin(x)*cos(y)*cos(z)\n",
    "vy₀(x,y,z) = -cos(x)*sin(y)*cos(z)\n",
    "vz₀(x,y,z) = zero(x)\n",
    "p₀(x,y,z)  = 100/γ + (cos(2x)*cos(2z)+2*cos(2y)+2*cos(2x)+cos(2y)*cos(2z))/16\n",
    "\n",
    "u₀(x,y,z) = conserved_variables(ϱ₀(x,y,z), vx₀(x,y,z), vy₀(x,y,z), vz₀(x,y,z), p₀(x,y,z), balance_law)\n",
    "xmin=0.; xmax=2π; ymin=0.; ymax=2π; zmin=0.; zmax=2π\n",
    "\n",
    "#fvol = CentralFlux()\n",
    "#fvol = MorinishiFlux()\n",
    "#fvol = DucrosEtAlFlux()\n",
    "#fvol = KennedyGruberFlux()\n",
    "#fvol = PirozzoliFlux()\n",
    "#fvol = EnergyConservativeFlux()\n",
    "#fvol = ChandrashekarFluxEC()\n",
    "#fvol = IsmailRoeFluxEC()\n",
    "fvol = RanochaFluxECandKEP()\n",
    "\n",
    "fnum = fvol\n",
    "#fnum = SuliciuFlux()\n",
    "#fnum = LocalLaxFriedrichsFlux()\n",
    "\n",
    "p = 1\n",
    "Nx = 5\n",
    "Ny = 5\n",
    "Nz = 5\n",
    "\n",
    "meshx = UniformPeriodicMesh1D(xmin, xmax, Nx)\n",
    "meshy = UniformPeriodicMesh1D(ymin, ymax, Ny)\n",
    "meshz = UniformPeriodicMesh1D(zmin, zmax, Nz)\n",
    "basis = LobattoLegendre(p)\n",
    "\n",
    "tspan = (0., 1.)\n",
    "semidisc = UniformPeriodicFluxDiffDisc3D(balance_law, meshx, meshy, meshz, basis, fvol, fnum, true)\n",
    "ode = semidiscretise(semidisc, u₀, tspan)\n",
    "\n",
    "#solve(ode, SSPRK104(), dt=tspan[end]-tspan[1], save_everystep=false)\n",
    "@time sol = solve(ode, SSPRK104(), dt=1/((2p+1)*max(Nx,Ny,Nz)), save_everystep=true);\n"
   ]
  },
  {
   "cell_type": "code",
   "execution_count": null,
   "metadata": {
    "collapsed": false
   },
   "outputs": [],
   "source": [
    "idx2ekin(idx) = integrate(u->kinetic_energy(u,balance_law), sol[idx], meshx, meshy, meshz, basis)\n",
    "idx2entr(idx) = integrate(u->entropy(u,balance_law), sol[idx], meshx, meshy, meshz, basis)\n",
    "\n",
    "ekin1 = idx2ekin(1)\n",
    "entr1 = idx2entr(1)\n",
    "\n",
    "fig_ekin = plot(sol.t, (map(idx2ekin, eachindex(sol))-ekin1)/abs(ekin1), label=\"\", xguide=L\"t\", yguide=\"Rel. Kinetic Energy Difference\")\n",
    "fig_entr = plot(sol.t, (map(idx2entr, eachindex(sol))-entr1)/abs(entr1), label=\"\", xguide=L\"t\", yguide=\"Rel. Entropy Difference\")\n",
    "\n",
    "plot(fig_ekin, fig_entr)"
   ]
  }
 ],
 "metadata": {
  "kernelspec": {
   "display_name": "Julia 0.6.1-pre",
   "language": "julia",
   "name": "julia-0.6"
  },
  "language_info": {
   "file_extension": ".jl",
   "mimetype": "application/julia",
   "name": "julia",
   "version": "0.6.1"
  }
 },
 "nbformat": 4,
 "nbformat_minor": 1
}
