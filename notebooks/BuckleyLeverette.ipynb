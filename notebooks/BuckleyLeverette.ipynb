{
 "cells": [
  {
   "cell_type": "markdown",
   "metadata": {},
   "source": [
    "# Buckley-Leverette equation\n",
    "\n",
    "The Buckley-Leverette equation in one space dimension is\n",
    "$$\n",
    "\\partial_t u + \\partial_x \\frac{u^2}{u^2 + (1-u)^2} = 0.\n",
    "$$\n",
    "It is a scalar conservation law with convex-concave flux $f(u) = \\frac{u^2}{u^2 + (1-u)^2}$."
   ]
  },
  {
   "cell_type": "code",
   "execution_count": null,
   "metadata": {
    "collapsed": false
   },
   "outputs": [],
   "source": [
    "using LaTeXStrings\n",
    "using Plots; pyplot()\n",
    "\n",
    "import HyperbolicDiffEq; reload(\"HyperbolicDiffEq\")\n",
    "\n",
    "model = HyperbolicDiffEq.BuckleyLeverette()\n",
    "u = linspace(0,1)\n",
    "plot(u, HyperbolicDiffEq.flux.(u, model), legend=false, xguide=L\"u\", yguide=L\"f\")"
   ]
  },
  {
   "cell_type": "markdown",
   "metadata": {},
   "source": [
    "The classical solution of the Riemann problem can be computed as described by Holden and Risebro (\"Front Tracking for Hyperbolic Conservation Laws\", Theorem 2.2). The only difficult part is the computation of the convex or concave envelope if one state is $\\leq \\frac{1}{2}$ and the other one is $\\geq \\frac{1}{2}$.\n",
    "\n",
    "The tangent condition `speed(u, model) - shockspeed(u, uᵣ, model) == 0` has three possible solutions\n",
    "`tangent_u_1(ur)`, `tangent_u_2(ur)`, and `tangent_u_3(ur)`.\n",
    "\n",
    "As can be seen below, `tangent_u_2(ur)` is the desired solution."
   ]
  },
  {
   "cell_type": "code",
   "execution_count": null,
   "metadata": {
    "collapsed": false
   },
   "outputs": [],
   "source": [
    "tangent_u_1(ur) = ur\n",
    "tangent_u_2(ur) = 1 / (2ur + sqrt(2 + 4ur*(ur-1)))\n",
    "tangent_u_3(ur) = (2ur + sqrt(2 + 4ur*(ur-1))) / (4ur - 2)\n",
    "\n",
    "plot(u, tangent_u_1.(u), label=\"tangent_u_1\", ylim=(-0.1,1.1))\n",
    "plot!(u, tangent_u_2.(u), label=\"tangent_u_2\")\n",
    "plot!(u, tangent_u_3.(u), label=\"tangent_u_3\")"
   ]
  },
  {
   "cell_type": "markdown",
   "metadata": {},
   "source": [
    "## Solutions of some Riemann problems"
   ]
  },
  {
   "cell_type": "code",
   "execution_count": null,
   "metadata": {
    "collapsed": false
   },
   "outputs": [],
   "source": [
    "probs = Vector{Any}()\n",
    "\n",
    "push!(probs, HyperbolicDiffEq.RiemannProblem(model, 0., 1.))\n",
    "push!(probs, HyperbolicDiffEq.RiemannProblem(model, 1., 0., 1))\n",
    "push!(probs, HyperbolicDiffEq.RiemannProblem(model, 0., 0.5, 2))\n",
    "push!(probs, HyperbolicDiffEq.RiemannProblem(model, 0.5, 1., 3))\n",
    "push!(probs, HyperbolicDiffEq.RiemannProblem(model, 1., 0.5, 4))\n",
    "push!(probs, HyperbolicDiffEq.RiemannProblem(model, 0.5, 0., 5))\n",
    "\n",
    "sols = HyperbolicDiffEq.solve.(probs)\n",
    "\n",
    "\n",
    "plot(sols[1], label=\"prob$(sols[1].prob.x₀)\")\n",
    "for i in 2:length(sols)-1\n",
    "    plot!(sols[i], label=\"prob$(sols[i].prob.x₀)\")\n",
    "end\n",
    "plot!(sols[end], label=\"prob$(sols[end].prob.x₀)\", legend=true)\n"
   ]
  },
  {
   "cell_type": "code",
   "execution_count": null,
   "metadata": {
    "collapsed": false
   },
   "outputs": [],
   "source": [
    "push!(probs, HyperbolicDiffEq.RiemannProblem(model, 0., 0.25, 6))\n",
    "push!(probs, HyperbolicDiffEq.RiemannProblem(model, 0.25, 0.75, 7))\n",
    "push!(probs, HyperbolicDiffEq.RiemannProblem(model, 0.75, 0.1, 8))\n",
    "\n",
    "prob = prod(probs)\n",
    "sol = HyperbolicDiffEq.solve(prob)\n",
    "plot(sol)"
   ]
  }
 ],
 "metadata": {
  "kernelspec": {
   "display_name": "Julia 0.6.1-pre",
   "language": "julia",
   "name": "julia-0.6"
  },
  "language_info": {
   "file_extension": ".jl",
   "mimetype": "application/julia",
   "name": "julia",
   "version": "0.6.1"
  }
 },
 "nbformat": 4,
 "nbformat_minor": 0
}
