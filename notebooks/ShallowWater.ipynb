{
 "cells": [
  {
   "cell_type": "markdown",
   "metadata": {},
   "source": [
    "# Shallow Water Equations\n",
    "\n",
    "The shallow water equations in one space dimension are\n",
    "$$\n",
    "\\partial_t \\underbrace{\\begin{pmatrix} h \\\\ hv \\end{pmatrix}}_{=u}\n",
    "+ \\partial_x \\underbrace{\\begin{pmatrix} hv \\\\ h v^2 + \\frac{1}{2} g h^2 \\end{pmatrix}}_{=f(u)}\n",
    "= 0,\n",
    "$$\n",
    "where $h$ is the water height, $v$ the velocity, and $g$ the gravitational constant."
   ]
  },
  {
   "cell_type": "code",
   "execution_count": null,
   "metadata": {
    "collapsed": false
   },
   "outputs": [],
   "source": [
    "using LaTeXStrings\n",
    "using Plots; pyplot()\n",
    "\n",
    "using HyperbolicDiffEq"
   ]
  },
  {
   "cell_type": "markdown",
   "metadata": {},
   "source": [
    "## Dam Break\n",
    "\n",
    "Example 5.20 of Holden & Risebro, \"Front Tracking for Hyperbolic Conservation Laws\", 2002."
   ]
  },
  {
   "cell_type": "code",
   "execution_count": null,
   "metadata": {
    "collapsed": false
   },
   "outputs": [],
   "source": [
    "model = ShallowWater(1.)\n",
    "uₗ = ShallowWaterVar1D(1., 0.)\n",
    "uᵣ = ShallowWaterVar1D(0., 0.)\n",
    "prob = RiemannProblem(model, uₗ, uᵣ)\n",
    "sol = solve(prob)\n",
    "plot(sol)"
   ]
  },
  {
   "cell_type": "markdown",
   "metadata": {},
   "source": [
    "## Moses' First Problem\n",
    "\n",
    "Example 5.21 of Holden & Risebro, \"Front Tracking for Hyperbolic Conservation Laws\", 2002."
   ]
  },
  {
   "cell_type": "code",
   "execution_count": null,
   "metadata": {
    "collapsed": false
   },
   "outputs": [],
   "source": [
    "model = ShallowWater(1.)\n",
    "uₗ = ShallowWaterVar1D(1., -2.5)\n",
    "uᵣ = ShallowWaterVar1D(1.,  2.5)\n",
    "prob = RiemannProblem(model, uₗ, uᵣ)\n",
    "sol = solve(prob)\n",
    "plot(sol)"
   ]
  },
  {
   "cell_type": "markdown",
   "metadata": {},
   "source": [
    "## Moses' Second Problem\n",
    "\n",
    "Example 5.22 of Holden & Risebro, \"Front Tracking for Hyperbolic Conservation Laws\", 2002."
   ]
  },
  {
   "cell_type": "code",
   "execution_count": null,
   "metadata": {
    "collapsed": false
   },
   "outputs": [],
   "source": [
    "model = ShallowWater(1.)\n",
    "uₗ = ShallowWaterVar1D(1., 0.)\n",
    "uₘ = ShallowWaterVar1D(0., 0.)\n",
    "uᵣ = ShallowWaterVar1D(1., 0.)\n",
    "prob1 = RiemannProblem(model, uₗ, uₘ)\n",
    "prob2 = RiemannProblem(model, uₘ, uᵣ, 1)\n",
    "prob = prob1 * prob2\n",
    "sol = solve(prob)\n",
    "plot(sol)"
   ]
  },
  {
   "cell_type": "markdown",
   "metadata": {},
   "source": [
    "# Two Shocks"
   ]
  },
  {
   "cell_type": "code",
   "execution_count": null,
   "metadata": {
    "collapsed": false
   },
   "outputs": [],
   "source": [
    "model = ShallowWater(1.)\n",
    "uₗ = ShallowWaterVar1D(1., 10.)\n",
    "uᵣ = ShallowWaterVar1D(1., 0.)\n",
    "prob = RiemannProblem(model, uₗ, uᵣ)\n",
    "sol = solve(prob)\n",
    "plot(sol)"
   ]
  },
  {
   "cell_type": "markdown",
   "metadata": {},
   "source": [
    "# First Order Finite Volume Methods"
   ]
  },
  {
   "cell_type": "code",
   "execution_count": null,
   "metadata": {
    "collapsed": false,
    "scrolled": false
   },
   "outputs": [],
   "source": [
    "using Revise\n",
    "using HyperbolicDiffEq\n",
    "using OrdinaryDiffEq, DiffEqCallbacks\n",
    "using LaTeXStrings, Plots; pyplot()\n",
    "\n",
    "\n",
    "xmin, xmax = -2., 2.\n",
    "N = 1 * 10^3\n",
    "\n",
    "balance_law = ShallowWater(2.)\n",
    "numflux =  SuliciuFlux() # HartenLaxVanLeerFlux(), LocalLaxFriedrichsFlux()\n",
    "\n",
    "# set up a periodic problem\n",
    "#u1 = ShallowWaterVar1D(1., 0.); u2 = ShallowWaterVar1D(0., 0.) # Dam break\n",
    "#u1 = ShallowWaterVar1D(1., -2.5); u2 = ShallowWaterVar1D(1.,  2.5) # Moses 1\n",
    "#u1 = ShallowWaterVar1D(1., 10.); u2 = ShallowWaterVar1D(1., 0.) # Two shocks\n",
    "u1 = ShallowWaterVar1D(1., 2.); u2 = ShallowWaterVar1D(2., 0.) \n",
    "uₐₙₐ = solve(RiemannProblem(balance_law, u1, u2, -1.) * RiemannProblem(balance_law, u2, u1, 0.5))\n",
    "#uₗ = ShallowWaterVar1D(1., 0.); uₘ = ShallowWaterVar1D(0., 0.); uᵣ = ShallowWaterVar1D(1., 0.) # Moses 2\n",
    "#uₐₙₐ = solve(RiemannProblem(balance_law, uₗ, uₘ, -1.) * \n",
    "#             RiemannProblem(balance_law, uₘ, uᵣ,  0.) *\n",
    "#             RiemannProblem(balance_law, uᵣ, uₗ,  1.))\n",
    "tspan = (0., 0.1)\n",
    "u₀(x) = uₐₙₐ(tspan[1], x)\n",
    "\n",
    "# create an ODE\n",
    "mesh = UniformPeriodicMesh1D(xmin, xmax, N)\n",
    "fv = FirstOrderFV(balance_law, mesh, numflux)\n",
    "ode = semidiscretise(fv, u₀, tspan)\n",
    "\n",
    "# solve the ODE sing either an adaptive time step (CFL) or a fixed one\n",
    "cb = StepsizeLimiter((t,u)->max_dt(t,u,fv), safety_factor=1, max_step=true)\n",
    "#@time sol = solve(ode, Euler(), dt=1, callback=cb)#, save_everystep=false)\n",
    "@time sol = solve(ode, OrdinaryDiffEq.Euler(), dt=max_dt(tspan[1], ode.u0, fv), save_everystep=false)\n",
    "\n",
    "println(\"L1 error: \", norm(sol[end]-compute_coefficients(x->uₐₙₐ(tspan[end],x),mesh), 1)  * abs(xmax-xmin)/N)\n",
    "\n",
    "plot(evaluate_coefficients(sol[1], mesh), label=L\"u_0\")\n",
    "plot!(evaluate_coefficients(sol[end], mesh), label=L\"u_\\mathrm{num}\")\n",
    "x = linspace(xmin, xmax, 10^3)\n",
    "plot!((x, uₐₙₐ.(tspan[end], x)), label=L\"u_\\mathrm{ana}\")\n",
    "plot!(legend=true, xguide=L\"x\")"
   ]
  }
 ],
 "metadata": {
  "kernelspec": {
   "display_name": "Julia 0.6.1-pre",
   "language": "julia",
   "name": "julia-0.6"
  },
  "language_info": {
   "file_extension": ".jl",
   "mimetype": "application/julia",
   "name": "julia",
   "version": "0.6.1"
  }
 },
 "nbformat": 4,
 "nbformat_minor": 1
}
