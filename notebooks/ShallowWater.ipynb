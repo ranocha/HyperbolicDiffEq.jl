{
 "cells": [
  {
   "cell_type": "markdown",
   "metadata": {},
   "source": [
    "# Shallow Water Equations\n",
    "\n",
    "The shallow water equations in one space dimension are\n",
    "$$\n",
    "\\partial_t \\underbrace{\\begin{pmatrix} h \\\\ hv \\end{pmatrix}}_{=u}\n",
    "+ \\partial_x \\underbrace{\\begin{pmatrix} hv \\\\ h v^2 + \\frac{1}{2} g h^2 \\end{pmatrix}}_{=f(u)}\n",
    "= 0,\n",
    "$$\n",
    "where $h$ is the water height, $v$ the velocity, and $g$ the gravitational constant."
   ]
  },
  {
   "cell_type": "code",
   "execution_count": null,
   "metadata": {
    "collapsed": false
   },
   "outputs": [],
   "source": [
    "using LaTeXStrings\n",
    "using Plots; pyplot()\n",
    "\n",
    "using HyperbolicDiffEq"
   ]
  },
  {
   "cell_type": "markdown",
   "metadata": {},
   "source": [
    "## Dam Break\n",
    "\n",
    "Example 5.20 of Holden & Risebro, \"Front Tracking for Hyperbolic Conservation Laws\", 2002."
   ]
  },
  {
   "cell_type": "code",
   "execution_count": null,
   "metadata": {
    "collapsed": false
   },
   "outputs": [],
   "source": [
    "model = ShallowWater(1.)\n",
    "uₗ = ShallowWaterVar1D(1., 0.)\n",
    "uᵣ = ShallowWaterVar1D(0., 0.)\n",
    "prob = RiemannProblem(model, uₗ, uᵣ)\n",
    "sol = solve(prob)\n",
    "plot(sol)"
   ]
  },
  {
   "cell_type": "markdown",
   "metadata": {},
   "source": [
    "## Moses' First Problem\n",
    "\n",
    "Example 5.21 of Holden & Risebro, \"Front Tracking for Hyperbolic Conservation Laws\", 2002."
   ]
  },
  {
   "cell_type": "code",
   "execution_count": null,
   "metadata": {
    "collapsed": false
   },
   "outputs": [],
   "source": [
    "model = ShallowWater(1.)\n",
    "uₗ = ShallowWaterVar1D(1., -2.5)\n",
    "uᵣ = ShallowWaterVar1D(1.,  2.5)\n",
    "prob = RiemannProblem(model, uₗ, uᵣ)\n",
    "sol = solve(prob)\n",
    "plot(sol)"
   ]
  },
  {
   "cell_type": "markdown",
   "metadata": {},
   "source": [
    "## Moses' Second Problem\n",
    "\n",
    "Example 5.22 of Holden & Risebro, \"Front Tracking for Hyperbolic Conservation Laws\", 2002."
   ]
  },
  {
   "cell_type": "code",
   "execution_count": null,
   "metadata": {
    "collapsed": false
   },
   "outputs": [],
   "source": [
    "model = ShallowWater(1.)\n",
    "uₗ = ShallowWaterVar1D(1., 0.)\n",
    "uₘ = ShallowWaterVar1D(0., 0.)\n",
    "uᵣ = ShallowWaterVar1D(1., 0.)\n",
    "prob1 = RiemannProblem(model, uₗ, uₘ)\n",
    "prob2 = RiemannProblem(model, uₘ, uᵣ, 1)\n",
    "prob = prob1 * prob2\n",
    "sol = solve(prob)\n",
    "plot(sol)"
   ]
  },
  {
   "cell_type": "markdown",
   "metadata": {},
   "source": [
    "# Two Shocks"
   ]
  },
  {
   "cell_type": "code",
   "execution_count": null,
   "metadata": {
    "collapsed": false
   },
   "outputs": [],
   "source": [
    "model = ShallowWater(1.)\n",
    "uₗ = ShallowWaterVar1D(1., 10.)\n",
    "uᵣ = ShallowWaterVar1D(1., 0.)\n",
    "prob = RiemannProblem(model, uₗ, uᵣ)\n",
    "sol = solve(prob)\n",
    "plot(sol)"
   ]
  }
 ],
 "metadata": {
  "kernelspec": {
   "display_name": "Julia 0.6.1-pre",
   "language": "julia",
   "name": "julia-0.6"
  },
  "language_info": {
   "file_extension": ".jl",
   "mimetype": "application/julia",
   "name": "julia",
   "version": "0.6.1"
  }
 },
 "nbformat": 4,
 "nbformat_minor": 1
}
