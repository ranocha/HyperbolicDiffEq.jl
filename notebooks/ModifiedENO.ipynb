{
 "cells": [
  {
   "cell_type": "markdown",
   "metadata": {},
   "source": [
    "# Finite Volume Method with ENO Reconstruction"
   ]
  },
  {
   "cell_type": "code",
   "execution_count": null,
   "metadata": {},
   "outputs": [],
   "source": [
    "using Revise\n",
    "using HyperbolicDiffEq\n",
    "using OrdinaryDiffEq, DiffEqCallbacks\n",
    "using LaTeXStrings, Plots; pyplot()\n",
    "\n",
    "xmin, xmax = -2., 2.\n",
    "N = 10^2\n",
    "parallel = Val{:serial}()\n",
    "#parallel = Val{:threads}()\n",
    "\n",
    "balance_law = Burgers()\n",
    "fnum = LocalLaxFriedrichsFlux()\n",
    "reconstruction = ModifiedENO(Val{1}(), ClassicalChoiceENO())\n",
    "\n",
    "# set up a periodic problem\n",
    "u_ana = solve(RiemannProblem(balance_law, 0., 1., -0.5) * RiemannProblem(balance_law, 1., 0., 0.5))\n",
    "tspan = (0., 1.)\n",
    "u₀func(x) = u_ana(tspan[1], x)\n",
    "\n",
    "# create an ODE\n",
    "mesh = UniformPeriodicMesh1D(xmin, xmax, N)\n",
    "fv = UniformPeriodicReconstructedFV1D(balance_law, mesh, fnum, reconstruction, parallel)\n",
    "ode = semidiscretise(fv, u₀func, tspan)\n",
    "\n",
    "# solve the ODE using a fixed time step\n",
    "@time sol = solve(ode, SSPRK104(), dt=4*max_dt(tspan[1], ode.u0, fv), save_everystep=false)\n",
    "\n",
    "\n",
    "plot(xguide=L\"x\", yguide=L\"u\")\n",
    "plot!(evaluate_coefficients(sol[1], mesh), label=L\"u_0\")\n",
    "plot!(evaluate_coefficients(sol[end], mesh), label=L\"u_\\mathrm{num}\")\n",
    "#x = linspace(xmin, xmax, 10^3)\n",
    "#plot!(x, u_ana.(tspan[end], x), label=L\"u_\\mathrm{ana}\", legend=true)\n"
   ]
  },
  {
   "cell_type": "code",
   "execution_count": null,
   "metadata": {},
   "outputs": [],
   "source": [
    "using Revise\n",
    "using HyperbolicDiffEq\n",
    "using OrdinaryDiffEq, DiffEqCallbacks\n",
    "using LaTeXStrings, Plots; pyplot()\n",
    "\n",
    "xmin, xmax = 0., 2.\n",
    "N = 10^2\n",
    "parallel = Val{:serial}()\n",
    "#parallel = Val{:threads}()\n",
    "\n",
    "balance_law = ConstantLinearAdvection()\n",
    "fnum = LocalLaxFriedrichsFlux()\n",
    "#reconstruction = ModifiedENO(Val{8}(), ClassicalChoiceENO())\n",
    "reconstruction = ModifiedENO(6)\n",
    "\n",
    "# set up a periodic problem\n",
    "u_ana(t,x) = sinpi(x-t)\n",
    "tspan = (0., 1.)\n",
    "u₀func(x) = u_ana(tspan[1], x)\n",
    "\n",
    "# create an ODE\n",
    "mesh = UniformPeriodicMesh1D(xmin, xmax, N)\n",
    "fv = UniformPeriodicReconstructedFV1D(balance_law, mesh, fnum, reconstruction, parallel)\n",
    "ode = semidiscretise(fv, u₀func, tspan)\n",
    "\n",
    "# solve the ODE using a fixed time step\n",
    "@time sol = solve(ode, SSPRK104(), dt=4*max_dt(tspan[1], ode.u0, fv), save_everystep=false)\n",
    "\n",
    "\n",
    "plot(xguide=L\"x\", yguide=L\"u\")\n",
    "plot!(evaluate_coefficients(sol[1], mesh), label=L\"u_0\")\n",
    "plot!(evaluate_coefficients(sol[end], mesh), label=L\"u_\\mathrm{num}\")\n",
    "#x = linspace(xmin, xmax, 10^3)\n",
    "#plot!(x, u_ana.(tspan[end], x), label=L\"u_\\mathrm{ana}\", legend=true)\n"
   ]
  }
 ],
 "metadata": {
  "kernelspec": {
   "display_name": "Julia 0.6.1-pre",
   "language": "julia",
   "name": "julia-0.6"
  },
  "language_info": {
   "file_extension": ".jl",
   "mimetype": "application/julia",
   "name": "julia",
   "version": "0.6.2"
  }
 },
 "nbformat": 4,
 "nbformat_minor": 1
}
