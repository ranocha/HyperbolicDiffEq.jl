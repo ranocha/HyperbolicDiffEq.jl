{
 "cells": [
  {
   "cell_type": "code",
   "execution_count": null,
   "metadata": {
    "collapsed": false
   },
   "outputs": [],
   "source": [
    "using Revise\n",
    "using HyperbolicDiffEq\n",
    "using OrdinaryDiffEq, DiffEqCallbacks\n",
    "using LaTeXStrings, Plots; pyplot()\n",
    "\n",
    "xmin, xmax = -2., 2.\n",
    "N = 10^3\n",
    "parallel = Val{:serial}()\n",
    "\n",
    "balance_law = Burgers()\n",
    "fnum = LocalLaxFriedrichsFlux()\n",
    "reconstruction = ModifiedENO(2)\n",
    "\n",
    "# set up a periodic problem\n",
    "u_ana = solve(RiemannProblem(balance_law, 1.e-4, 2., -0.5) * RiemannProblem(balance_law, 2., 1.e-4, 0.5))\n",
    "tspan = (0., 1.)\n",
    "u₀func(x) = u_ana(tspan[1], x)\n",
    "\n",
    "# create an ODE\n",
    "mesh = UniformPeriodicMesh1D(xmin, xmax, N)\n",
    "fv = UniformPeriodicReconstructedFV1D(balance_law, mesh, fnum, reconstruction, parallel)\n",
    "ode = semidiscretise(fv, u₀func, tspan)\n",
    "\n",
    "# solve the ODE sing either an adaptive time step (CFL) or a fixed one\n",
    "#cb = StepsizeLimiter((t,u)->max_dt(t,u,fv), safety_factor=1, max_step=true)\n",
    "sol = solve(ode, OrdinaryDiffEq.Euler(), dt=max_dt(tspan[1], ode.u0, fv), save_everystep=false)\n",
    "\n",
    "\n",
    "plot(xguide=L\"x\", yguide=L\"u\")\n",
    "plot!(evaluate_coefficients(sol[1], mesh), label=L\"u_0\")\n",
    "plot!(evaluate_coefficients(sol[end], mesh), label=L\"u_\\mathrm{num}\")\n",
    "#x = linspace(xmin, xmax, 10^3)\n",
    "#plot!(x, u_ana.(tspan[end], x), label=L\"u_\\mathrm{ana}\", legend=true)\n"
   ]
  },
  {
   "cell_type": "code",
   "execution_count": null,
   "metadata": {
    "collapsed": true
   },
   "outputs": [],
   "source": []
  }
 ],
 "metadata": {
  "kernelspec": {
   "display_name": "Julia 0.6.1-pre",
   "language": "julia",
   "name": "julia-0.6"
  },
  "language_info": {
   "file_extension": ".jl",
   "mimetype": "application/julia",
   "name": "julia",
   "version": "0.6.2"
  }
 },
 "nbformat": 4,
 "nbformat_minor": 1
}
