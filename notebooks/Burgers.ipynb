{
 "cells": [
  {
   "cell_type": "markdown",
   "metadata": {},
   "source": [
    "# Burgers' Equation\n",
    "\n",
    "The inviscid Burgers' equation in one space dimension is\n",
    "$$\n",
    "\\partial_t u + \\partial_x \\frac{u^2}{2} = 0.\n",
    "$$\n",
    "It is a scalar conservation law with convex flux $f(u) = \\frac{u^2}{2}$."
   ]
  },
  {
   "cell_type": "markdown",
   "metadata": {},
   "source": [
    "## Riemann Problem"
   ]
  },
  {
   "cell_type": "code",
   "execution_count": null,
   "metadata": {},
   "outputs": [],
   "source": [
    "using HyperbolicDiffEq\n",
    "using Plots; pyplot()\n",
    "\n",
    "# create a Riemann problem with left value 0 and right value 1\n",
    "prob1 = RiemannProblem(Burgers(), 0., 1.)\n",
    "sol1  = solve(prob1)\n",
    "plot1 = plot(sol1)\n",
    "\n",
    "# create a second Riemann problem at x₀=1\n",
    "prob2 = RiemannProblem(Burgers(), 1., -1., 1.)\n",
    "sol2  = solve(prob2)\n",
    "plot2 = plot(sol2)\n",
    "\n",
    "plot(plot1, plot2)"
   ]
  },
  {
   "cell_type": "markdown",
   "metadata": {},
   "source": [
    "### Consecutive Riemann Problems"
   ]
  },
  {
   "cell_type": "code",
   "execution_count": null,
   "metadata": {},
   "outputs": [],
   "source": [
    "prob3 = RiemannProblem(Burgers(), -1., -2., 2)\n",
    "\n",
    "prob = prob1 * prob2\n",
    "prob = prob * prob3\n",
    "sol = solve(prob)\n",
    "plot(sol)"
   ]
  },
  {
   "cell_type": "markdown",
   "metadata": {},
   "source": [
    "# First Order Finite Volume Methods"
   ]
  },
  {
   "cell_type": "code",
   "execution_count": null,
   "metadata": {},
   "outputs": [],
   "source": [
    "using Revise\n",
    "using HyperbolicDiffEq\n",
    "using OrdinaryDiffEq, DiffEqCallbacks\n",
    "using LaTeXStrings, Plots; pyplot()\n",
    "\n",
    "xmin, xmax = -2., 2.\n",
    "N = 10^3\n",
    "usethreads = true\n",
    "\n",
    "balance_law = Burgers()\n",
    "numflux = GodunovFlux() # GodunovFlux, LocalLaxFriedrichsFlux\n",
    "\n",
    "# set up a periodic problem\n",
    "u_ana = solve(RiemannProblem(balance_law, 1.e-4, 1., -0.5) * RiemannProblem(balance_law, 1., 1.e-4, 0.5))\n",
    "tspan = (0., 1.)\n",
    "u₀func(x) = u_ana(tspan[1], x)\n",
    "\n",
    "# create an ODE\n",
    "mesh = UniformPeriodicMesh1D(xmin, xmax, N)\n",
    "fv = FirstOrderFV(balance_law, mesh, numflux, usethreads)\n",
    "ode = semidiscretise(fv, u₀func, tspan)\n",
    "\n",
    "# solve the ODE sing either an adaptive time step (CFL) or a fixed one\n",
    "#cb = StepsizeLimiter((t,u)->max_dt(t,u,fv), safety_factor=1, max_step=true)\n",
    "#sol = solve(ode, OrdinaryDiffEq.Euler(), dt=1, callback=cb, save_everystep=false)\n",
    "sol = solve(ode, OrdinaryDiffEq.Euler(), dt=max_dt(tspan[1], ode.u0, fv), save_everystep=false)\n",
    "\n",
    "plot(xguide=L\"x\", yguide=L\"u\")\n",
    "plot!(evaluate_coefficients(sol[1], mesh), label=L\"u_0\")\n",
    "plot!(evaluate_coefficients(sol[end], mesh), label=L\"u_\\mathrm{num}\")\n",
    "x = range(xmin, xmax, length=10^3)\n",
    "plot!(x, u_ana.(tspan[end], x), label=L\"u_\\mathrm{ana}\", legend=true)"
   ]
  },
  {
   "cell_type": "code",
   "execution_count": null,
   "metadata": {},
   "outputs": [],
   "source": []
  }
 ],
 "metadata": {
  "kernelspec": {
   "display_name": "Julia 1.3.0",
   "language": "julia",
   "name": "julia-1.3"
  },
  "language_info": {
   "file_extension": ".jl",
   "mimetype": "application/julia",
   "name": "julia",
   "version": "1.3.0"
  }
 },
 "nbformat": 4,
 "nbformat_minor": 1
}
