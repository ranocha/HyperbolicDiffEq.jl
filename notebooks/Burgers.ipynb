{
 "cells": [
  {
   "cell_type": "markdown",
   "metadata": {},
   "source": [
    "# Burgers' equation\n",
    "\n",
    "The inviscid Burgers' equation in one space dimension is\n",
    "$$\n",
    "\\partial_t u + \\partial_x \\frac{u^2}{2} = 0.\n",
    "$$\n",
    "It is a scalar conservation law with convex flux $f(u) = \\frac{u^2}{2}$."
   ]
  },
  {
   "cell_type": "markdown",
   "metadata": {},
   "source": [
    "## Riemann Problem"
   ]
  },
  {
   "cell_type": "code",
   "execution_count": null,
   "metadata": {
    "collapsed": false
   },
   "outputs": [],
   "source": [
    "using HyperbolicDiffEq\n",
    "using Plots; pyplot()\n",
    "\n",
    "# create a Riemann problem with left value 0 and right value 1\n",
    "prob1 = RiemannProblem(Burgers(), 0., 1.)\n",
    "sol1  = solve(prob1)\n",
    "plot1 = plot(sol1)\n",
    "\n",
    "# create a second Riemann problem at x₀=1\n",
    "prob2 = RiemannProblem(Burgers(), 1., -1., 1.)\n",
    "sol2  = solve(prob2)\n",
    "plot2 = plot(sol2)\n",
    "\n",
    "plot(plot1, plot2)"
   ]
  },
  {
   "cell_type": "markdown",
   "metadata": {},
   "source": [
    "### Consecutive Riemann Problems"
   ]
  },
  {
   "cell_type": "code",
   "execution_count": null,
   "metadata": {
    "collapsed": false
   },
   "outputs": [],
   "source": [
    "prob3 = RiemannProblem(Burgers(), -1., -2., 2)\n",
    "\n",
    "prob = prob1 * prob2\n",
    "prob = prob * prob3\n",
    "sol = solve(prob)\n",
    "plot(sol)"
   ]
  }
 ],
 "metadata": {
  "kernelspec": {
   "display_name": "Julia 0.6.1-pre",
   "language": "julia",
   "name": "julia-0.6"
  },
  "language_info": {
   "file_extension": ".jl",
   "mimetype": "application/julia",
   "name": "julia",
   "version": "0.6.1"
  }
 },
 "nbformat": 4,
 "nbformat_minor": 1
}
