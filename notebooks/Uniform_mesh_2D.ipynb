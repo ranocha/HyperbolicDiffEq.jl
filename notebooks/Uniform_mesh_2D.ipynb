{
 "cells": [
  {
   "cell_type": "code",
   "execution_count": null,
   "metadata": {
    "collapsed": false,
    "scrolled": false
   },
   "outputs": [],
   "source": [
    "import HyperbolicDiffEq; reload(\"HyperbolicDiffEq\")\n",
    "\n",
    "using Plots; pyplot()\n",
    "using LaTeXStrings\n",
    "\n",
    "HCL=HyperbolicDiffEq\n",
    "LobattoLegendre = HCL.LobattoLegendre; UniformPeriodicMesh1D = HCL.UniformPeriodicMesh1D\n",
    "compute_coefficients = HCL.compute_coefficients; evaluate_coefficients = HCL.evaluate_coefficients\n",
    "\n",
    "#u₀(x,y) = sinpi(x)*sinpi(y); xmin=-1.; xmax=1.; ymin=-1.; ymax=1.\n",
    "u₀(x,y) = (3x + y ^ 2) * abs(sin(x) + cos(y)); xmin=0.; xmax=20.; ymin=-0.; ymax=10.\n",
    "\n",
    "\n",
    "p = 9\n",
    "Nx = 10\n",
    "Ny = 10\n",
    "\n",
    "meshx = UniformPeriodicMesh1D(xmin, xmax, Nx)\n",
    "meshy = UniformPeriodicMesh1D(ymin, ymax, Ny)\n",
    "basis = LobattoLegendre(p)\n",
    "\n",
    "u0 = compute_coefficients(u₀, meshx, meshy, basis)\n",
    "xplot, yplot, uplot = evaluate_coefficients(u0, meshx, meshy, basis)\n",
    "\n",
    "\n",
    "#fig = plot(xguide=L\"x\", yguide=L\"y\")\n",
    "display(\"contour\")\n",
    "contour(xplot, yplot, uplot) |> display\n",
    "display(\"contour(..., fill=true)\")\n",
    "contour(xplot, yplot, uplot, fill=true) |> display\n",
    "display(\"heatmap\")\n",
    "heatmap(xplot, yplot, uplot) |> display\n",
    "display(\"surface\")\n",
    "surface(xplot, yplot, uplot) |> display\n",
    "display(\"contour3d\")\n",
    "contour3d(xplot, yplot, uplot) |> display\n",
    "display(\"wireframe\")\n",
    "wireframe(xplot, yplot, uplot) |> display\n",
    "display(\"wireframe(..., contours=true)\")\n",
    "wireframe(xplot, yplot, uplot, contours=true) |> display\n"
   ]
  },
  {
   "cell_type": "code",
   "execution_count": null,
   "metadata": {
    "collapsed": false
   },
   "outputs": [],
   "source": []
  },
  {
   "cell_type": "code",
   "execution_count": null,
   "metadata": {
    "collapsed": false
   },
   "outputs": [],
   "source": []
  }
 ],
 "metadata": {
  "kernelspec": {
   "display_name": "Julia 0.6.1-pre",
   "language": "julia",
   "name": "julia-0.6"
  },
  "language_info": {
   "file_extension": ".jl",
   "mimetype": "application/julia",
   "name": "julia",
   "version": "0.6.1"
  }
 },
 "nbformat": 4,
 "nbformat_minor": 0
}
