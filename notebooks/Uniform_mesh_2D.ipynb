{
 "cells": [
  {
   "cell_type": "code",
   "execution_count": null,
   "metadata": {
    "collapsed": true
   },
   "outputs": [],
   "source": []
  },
  {
   "cell_type": "code",
   "execution_count": null,
   "metadata": {
    "collapsed": false
   },
   "outputs": [],
   "source": [
    "using OrdinaryDiffEq\n",
    "using BenchmarkTools\n",
    "\n",
    "function test_parallel(t, u, du)\n",
    "    #@boundscheck @assert size(u) == size(du)\n",
    "    @inbounds Threads.@threads for i in 1:length(u)\n",
    "        du[i] = exp(u[i])\n",
    "    end\n",
    "    nothing\n",
    "end\n",
    "\n",
    "function test_serial(t, u, du)\n",
    "    #@boundscheck @assert size(u) == size(du)\n",
    "    @inbounds for i in eachindex(u)\n",
    "        du[i] = exp(u[i])\n",
    "    end\n",
    "    nothing\n",
    "end\n",
    "\n",
    "function display_benchmarks(u0, t)\n",
    "    u = copy(u0)\n",
    "    du = similar(u0)\n",
    "    display(\"serial\")\n",
    "    display(@benchmark test_serial(t, u, du))\n",
    "    display(\"parallel\")\n",
    "    display(@benchmark test_parallel(t, u, du))\n",
    "    nothing\n",
    "end\n",
    "\n",
    "function time_solve(u0, tspan, dt)\n",
    "    ode_serial = ODEProblem(test_serial, u0, tspan)\n",
    "    ode_parallel = ODEProblem(test_parallel, u0, tspan)\n",
    "    println(\"serial\")\n",
    "    @time solve(ode_serial, SSPRK33(), dt=dt, save_everystep=false)\n",
    "    println(\"parallel\")\n",
    "    @time solve(ode_parallel, SSPRK33(), dt=dt, save_everystep=false)\n",
    "    nothing\n",
    "end\n",
    "\n",
    "srand(12345)\n",
    "u0 = zeros(10^4)\n",
    "tspan = (0., 10.)\n",
    "dt = 1.e-3\n",
    "\n",
    "display_benchmarks(u0, tspan[1])\n",
    "time_solve(u0, tspan, dt)\n"
   ]
  },
  {
   "cell_type": "markdown",
   "metadata": {},
   "source": [
    "# Benchmark"
   ]
  },
  {
   "cell_type": "code",
   "execution_count": null,
   "metadata": {
    "collapsed": false
   },
   "outputs": [],
   "source": [
    "using OrdinaryDiffEq\n",
    "import HyperbolicDiffEq; #reload(\"HyperbolicDiffEq\")\n",
    "\n",
    "HCL=HyperbolicDiffEq\n",
    "LobattoLegendre = HCL.LobattoLegendre; UniformPeriodicMesh1D = HCL.UniformPeriodicMesh1D\n",
    "compute_coefficients = HCL.compute_coefficients; evaluate_coefficients = HCL.evaluate_coefficients\n",
    "semidiscretise = HCL.semidiscretise; UniformPeriodicFluxDiffDisc2D = HCL.UniformPeriodicFluxDiffDisc2D\n",
    "EnergyConservativeFlux = HCL.EnergyConservativeFlux; GodunovFLux = HCL.godunov\n",
    "EulerVar2D = HCL.EulerVar2D; conserved_variables = HCL.conserved_variables; SuliciuFlux=HCL.SuliciuFlux\n",
    "LocalLaxFriedrichsFlux = HCL.LocalLaxFriedrichsFlux; ChandrashekarFluxEC=HCL.ChandrashekarFluxEC\n",
    "IsmailRoeFluxEC=HCL.IsmailRoeFluxEC; CentralFlux=HCL.CentralFlux; RanochaFluxECandKEP=HCL.RanochaFluxECandKEP\n",
    "MorinishiFlux=HCL.MorinishiFlux; DucrosEtAlFlux=HCL.DucrosEtAlFlux; KennedyGruberFlux=HCL.KennedyGruberFlux\n",
    "PirozzoliFlux=HCL.PirozzoliFlux\n",
    "integrate=HCL.integrate; kinetic_energy=HCL.kinetic_energy; entropy=HCL.entropy\n",
    "\n",
    "balance_law = HyperbolicDiffEq.Euler{Float64,2}(1.4)\n",
    "\n",
    "ϱ₀(x,y)  = 1.\n",
    "vx₀(x,y) = sin(x)*cos(y)\n",
    "vy₀(x,y) = -cos(x)*sin(y)\n",
    "p₀(x,y)  = 100/γ + (cos(2x)+cos(2y))*3/16\n",
    "\n",
    "u₀(x,y) = conserved_variables(ϱ₀(x,y), vx₀(x,y), vy₀(x,y), p₀(x,y), balance_law)\n",
    "xmin=0.; xmax=2π; ymin=0.; ymax=2π\n",
    "\n",
    "#fvol = CentralFlux()\n",
    "#fvol = MorinishiFlux()\n",
    "#fvol = DucrosEtAlFlux()\n",
    "#fvol = KennedyGruberFlux()\n",
    "fvol = PirozzoliFlux()\n",
    "#fvol = EnergyConservativeFlux()\n",
    "#fvol = ChandrashekarFluxEC()\n",
    "#fvol = IsmailRoeFluxEC()\n",
    "#fvol = RanochaFluxECandKEP()\n",
    "\n",
    "fnum = fvol\n",
    "#fnum = SuliciuFlux()\n",
    "#fnum = LocalLaxFriedrichsFlux()\n",
    "\n",
    "p = 2\n",
    "Nx = 25\n",
    "Ny = 25\n",
    "\n",
    "meshx = UniformPeriodicMesh1D(xmin, xmax, Nx)\n",
    "meshy = UniformPeriodicMesh1D(ymin, ymax, Ny)\n",
    "basis = LobattoLegendre(p)\n",
    "\n",
    "tspan = (0., 1.)\n",
    "semidisc = UniformPeriodicFluxDiffDisc2D(balance_law, meshx, meshy, basis, fvol, fnum, true)\n",
    "ode = semidiscretise(semidisc, u₀, tspan)\n",
    "\n",
    "@time sol = solve(ode, SSPRK33(), dt=1/((2p+1)*max(Nx,Ny)), save_everystep=false);"
   ]
  },
  {
   "cell_type": "code",
   "execution_count": null,
   "metadata": {
    "collapsed": true
   },
   "outputs": [],
   "source": [
    "serial  : 17.284878 seconds ( 73.10 M allocations:  2.101 GiB, 2.04% gc time)\n",
    "parallel: 51.360241 seconds (690.50 M allocations: 11.266 GiB, 9.98% gc time)"
   ]
  },
  {
   "cell_type": "code",
   "execution_count": null,
   "metadata": {
    "collapsed": false,
    "scrolled": false
   },
   "outputs": [],
   "source": [
    "using BenchmarkTools\n",
    "\n",
    "u = copy(ode.u0)\n",
    "du = similar(u)\n",
    "Pp1 = p+1\n",
    "jacx = 2 / semidisc.meshx.Δx\n",
    "jacy = 2 / semidisc.meshy.Δx\n",
    "\n",
    "u1 = first(u)\n",
    "u2 = last(u)\n",
    "direction = Val{:x}()\n",
    "t = tspan[1]\n",
    "\n",
    "\n",
    "usethreads = Val{false}()\n",
    "semidisc = UniformPeriodicFluxDiffDisc2D(balance_law, meshx, meshy, basis, fvol, fnum, false)\n",
    "display(usethreads)\n",
    "#display(@benchmark HCL.add_flux_differences_inner_loop!(du,u,balance_law,fvol,Nx,Ny,Pp1,basis.D,jacx,jacy,usethreads))\n",
    "#@code_warntype HCL.add_flux_differences_inner_loop!(du,u,balance_law,fvol,Nx,Ny,Pp1,basis.D,jacx,jacy,usethreads)\n",
    "display(@benchmark HCL.add_flux_differences!(du, u, semidisc))\n",
    "display(@benchmark HCL.add_numerical_fluxes!(du, u, semidisc))\n",
    "display(@benchmark semidisc(t, u, du))\n",
    "\n",
    "usethreads = Val{true}()\n",
    "semidisc = UniformPeriodicFluxDiffDisc2D(balance_law, meshx, meshy, basis, fvol, fnum, true)\n",
    "display(usethreads)\n",
    "#display(@benchmark HCL.add_flux_differences_inner_loop!(du,u,balance_law,fvol,Nx,Ny,Pp1,basis.D,jacx,jacy,usethreads))\n",
    "#@code_warntype HCL.add_flux_differences_inner_loop!(du,u,balance_law,fvol,Nx,Ny,Pp1,basis.D,jacx,jacy,usethreads)\n",
    "display(@benchmark HCL.add_flux_differences!(du, u, semidisc))\n",
    "display(@benchmark HCL.add_numerical_fluxes!(du, u, semidisc))\n",
    "display(@benchmark semidisc(t, u, du))\n"
   ]
  },
  {
   "cell_type": "code",
   "execution_count": null,
   "metadata": {
    "collapsed": false
   },
   "outputs": [],
   "source": [
    "using LaTeXStrings, Plots; pyplot()\n",
    "\n",
    "npoints = 10p+3\n",
    "\n",
    "xplot, yplot, uplot = evaluate_coefficients(sol[1], meshx, meshy, basis, npoints)\n",
    "heatmap((xplot, yplot, uplot, balance_law), cbar=true) |> display\n",
    "\n",
    "xplot, yplot, uplot = evaluate_coefficients(sol[end], meshx, meshy, basis, npoints)\n",
    "heatmap((xplot, yplot, uplot, balance_law), cbar=true) |> display"
   ]
  },
  {
   "cell_type": "markdown",
   "metadata": {},
   "source": [
    "# Euler"
   ]
  },
  {
   "cell_type": "code",
   "execution_count": null,
   "metadata": {
    "collapsed": false
   },
   "outputs": [],
   "source": [
    "import HyperbolicDiffEq; #reload(\"HyperbolicDiffEq\")\n",
    "using OrdinaryDiffEq\n",
    "\n",
    "using Plots; pyplot()\n",
    "using LaTeXStrings\n",
    "\n",
    "HCL=HyperbolicDiffEq\n",
    "LobattoLegendre = HCL.LobattoLegendre; UniformPeriodicMesh1D = HCL.UniformPeriodicMesh1D\n",
    "compute_coefficients = HCL.compute_coefficients; evaluate_coefficients = HCL.evaluate_coefficients\n",
    "semidiscretise = HCL.semidiscretise; UniformPeriodicFluxDiffDisc2D = HCL.UniformPeriodicFluxDiffDisc2D\n",
    "EnergyConservativeFlux = HCL.EnergyConservativeFlux; GodunovFLux = HCL.godunov\n",
    "EulerVar2D = HCL.EulerVar2D; conserved_variables = HCL.conserved_variables; SuliciuFlux=HCL.SuliciuFlux\n",
    "LocalLaxFriedrichsFlux = HCL.LocalLaxFriedrichsFlux; ChandrashekarFluxEC=HCL.ChandrashekarFluxEC\n",
    "IsmailRoeFluxEC=HCL.IsmailRoeFluxEC; CentralFlux=HCL.CentralFlux; RanochaFluxECandKEP=HCL.RanochaFluxECandKEP\n",
    "MorinishiFlux=HCL.MorinishiFlux; DucrosEtAlFlux=HCL.DucrosEtAlFlux; KennedyGruberFlux=HCL.KennedyGruberFlux\n",
    "PirozzoliFlux=HCL.PirozzoliFlux\n",
    "integrate=HCL.integrate; kinetic_energy=HCL.kinetic_energy; entropy=HCL.entropy\n",
    "\n",
    "const γ = 1.4\n",
    "balance_law = HCL.Euler{Float64,2}(γ)\n",
    "\n",
    "ϱ₀(x,y)  = 1.\n",
    "vx₀(x,y) = sin(x)*cos(y)\n",
    "vy₀(x,y) = -cos(x)*sin(y)\n",
    "p₀(x,y)  = 100/γ + (cos(2x)+cos(2y))*3/16\n",
    "\n",
    "u₀(x,y) = conserved_variables(ϱ₀(x,y), vx₀(x,y), vy₀(x,y), p₀(x,y), balance_law)\n",
    "xmin=0.; xmax=2π; ymin=0.; ymax=2π\n",
    "\n",
    "#fvol = CentralFlux()\n",
    "#fvol = MorinishiFlux()\n",
    "#fvol = DucrosEtAlFlux()\n",
    "#fvol = KennedyGruberFlux()\n",
    "fvol = PirozzoliFlux()\n",
    "#fvol = EnergyConservativeFlux()\n",
    "#fvol = ChandrashekarFluxEC()\n",
    "#fvol = IsmailRoeFluxEC()\n",
    "#fvol = RanochaFluxECandKEP()\n",
    "\n",
    "fnum = fvol\n",
    "#fnum = SuliciuFlux()\n",
    "#fnum = LocalLaxFriedrichsFlux()\n",
    "\n",
    "p = 1\n",
    "Nx = 25\n",
    "Ny = 25\n",
    "\n",
    "meshx = UniformPeriodicMesh1D(xmin, xmax, Nx)\n",
    "meshy = UniformPeriodicMesh1D(ymin, ymax, Ny)\n",
    "basis = LobattoLegendre(p)\n",
    "\n",
    "tspan = (0., 20.)\n",
    "semidisc = UniformPeriodicFluxDiffDisc2D(balance_law, meshx, meshy, basis, fvol, fnum, true)\n",
    "ode = semidiscretise(semidisc, u₀, tspan)\n",
    "\n",
    "#solve(ode, SSPRK104(), dt=tspan[end]-tspan[1], save_everystep=false)\n",
    "@time sol = solve(ode, SSPRK104(), dt=1/((2p+1)*max(Nx,Ny)), save_everystep=true);\n"
   ]
  },
  {
   "cell_type": "code",
   "execution_count": null,
   "metadata": {
    "collapsed": false
   },
   "outputs": [],
   "source": [
    "idx2ekin(idx) = integrate(u->kinetic_energy(u,balance_law), sol[idx], meshx, meshy, basis)\n",
    "idx2entr(idx) = integrate(u->entropy(u,balance_law), sol[idx], meshx, meshy, basis)\n",
    "\n",
    "ekin1 = idx2ekin(1)\n",
    "entr1 = idx2entr(1)\n",
    "\n",
    "fig_ekin = plot(sol.t, (map(idx2ekin, eachindex(sol))-ekin1)/abs(ekin1), label=\"\", xguide=L\"t\", yguide=\"Rel. Kinetic Energy Difference\")\n",
    "fig_entr = plot(sol.t, (map(idx2entr, eachindex(sol))-entr1)/abs(entr1), label=\"\", xguide=L\"t\", yguide=\"Rel. Entropy Difference\")\n",
    "\n",
    "plot(fig_ekin, fig_entr)"
   ]
  },
  {
   "cell_type": "code",
   "execution_count": null,
   "metadata": {
    "collapsed": false
   },
   "outputs": [],
   "source": [
    "@show integrate(sol[1], meshx, meshy, basis)\n",
    "@show integrate(sol[end], meshx, meshy, basis)\n",
    "\n",
    "@show integrate(u->kinetic_energy(u,balance_law), sol[1], meshx, meshy, basis)\n",
    "@show integrate(u->kinetic_energy(u,balance_law), sol[end], meshx, meshy, basis)\n",
    "\n",
    "@show integrate(u->entropy(u,balance_law), sol[1], meshx, meshy, basis)\n",
    "@show integrate(u->entropy(u,balance_law), sol[end], meshx, meshy, basis)"
   ]
  },
  {
   "cell_type": "code",
   "execution_count": null,
   "metadata": {
    "collapsed": false
   },
   "outputs": [],
   "source": [
    "npoints = 10p+3\n",
    "\n",
    "\n",
    "xplot, yplot, uplot = evaluate_coefficients(sol[1], meshx, meshy, basis, npoints)\n",
    "heatmap((xplot, yplot, uplot, balance_law), cbar=true) |> display\n",
    "\n",
    "xplot, yplot, uplot = evaluate_coefficients(sol[end], meshx, meshy, basis, npoints)\n",
    "heatmap((xplot, yplot, uplot, balance_law), cbar=true) |> display\n"
   ]
  },
  {
   "cell_type": "code",
   "execution_count": null,
   "metadata": {
    "collapsed": false
   },
   "outputs": [],
   "source": []
  },
  {
   "cell_type": "markdown",
   "metadata": {},
   "source": [
    "# Test Burgers'"
   ]
  },
  {
   "cell_type": "code",
   "execution_count": null,
   "metadata": {
    "collapsed": false
   },
   "outputs": [],
   "source": [
    "import HyperbolicDiffEq; reload(\"HyperbolicDiffEq\")\n",
    "using OrdinaryDiffEq\n",
    "\n",
    "using Plots; pyplot()\n",
    "using LaTeXStrings\n",
    "\n",
    "HCL=HyperbolicDiffEq\n",
    "LobattoLegendre = HCL.LobattoLegendre; UniformPeriodicMesh1D = HCL.UniformPeriodicMesh1D\n",
    "compute_coefficients = HCL.compute_coefficients; evaluate_coefficients = HCL.evaluate_coefficients\n",
    "semidiscretise = HCL.semidiscretise; UniformPeriodicFluxDiffDisc2D = HCL.UniformPeriodicFluxDiffDisc2D\n",
    "EnergyConservativeFlux = HCL.EnergyConservativeFlux; GodunovFLux = HCL.godunov\n",
    "\n",
    "\n",
    "balance_law = HCL.Burgers{Float64,2}()\n",
    "u₀(x,y) = sinpi(x); xmin=0.; xmax=2.; ymin=-1.; ymax=1.\n",
    "\n",
    "fvol = EnergyConservativeFlux()\n",
    "fnum = GodunovFLux\n",
    "\n",
    "p = 1\n",
    "Nx = 50\n",
    "Ny = 50\n",
    "\n",
    "meshx = UniformPeriodicMesh1D(xmin, xmax, Nx)\n",
    "meshy = UniformPeriodicMesh1D(ymin, ymax, Ny)\n",
    "basis = LobattoLegendre(p)\n",
    "\n",
    "tspan = (0., 4.)\n",
    "semidisc = UniformPeriodicFluxDiffDisc2D(balance_law, meshx, meshy, basis, fvol, fnum, true)\n",
    "ode = semidiscretise(semidisc, u₀, tspan)\n",
    "\n",
    "solve(ode, SSPRK104(), dt=tspan[end]-tspan[1], save_everystep=false)\n",
    "@time sol = solve(ode, SSPRK104(), dt=1./((2p+1)*max(Nx,Ny)), save_everystep=false);\n"
   ]
  },
  {
   "cell_type": "code",
   "execution_count": null,
   "metadata": {
    "collapsed": false
   },
   "outputs": [],
   "source": [
    "npoints = 10p+3\n",
    "\n",
    "xplot, yplot, uplot = evaluate_coefficients(sol[1], meshx, meshy, basis, npoints)\n",
    "heatmap(xplot, yplot, uplot) |> display\n",
    "\n",
    "xplot, yplot, uplot = evaluate_coefficients(sol[end], meshx, meshy, basis, npoints)\n",
    "heatmap(xplot, yplot, uplot) |> display\n",
    "\n",
    "xplot, yplot, uplot = evaluate_coefficients(sol[end], meshx, meshy, basis, npoints)\n",
    "plot(xplot, uplot[npoints÷2+1,:]) |> display"
   ]
  },
  {
   "cell_type": "code",
   "execution_count": null,
   "metadata": {
    "collapsed": false,
    "scrolled": false
   },
   "outputs": [],
   "source": [
    "using BenchmarkTools\n",
    "\n",
    "reload(\"HyperbolicDiffEq\")\n",
    "\n",
    "u = copy(ode.u0)\n",
    "du = zeros(u)\n",
    "jacx = 2 / semidisc.meshx.Δx\n",
    "jacy = 2 / semidisc.meshy.Δx\n",
    "direction = Val{:x}()\n",
    "\n",
    "#usethreads = Val{true}()\n",
    "#usethreads = Val{false}()\n",
    "\n",
    "#@benchmark HCL.add_flux_differences!(du, u, semidisc)\n",
    "@benchmark HCL.add_numerical_fluxes!(du, u, semidisc)\n",
    "\n",
    "#@benchmark fvol(1., 6., balance_law, direction)\n",
    "#@code_native fvol(1., 6., balance_law, direction)\n",
    "#@benchmark fnum(1., 6., balance_law, direction)\n",
    "#@code_native fnum(1., 6., balance_law, direction)\n",
    "\n",
    "#@code_warntype HCL.add_flux_differences!(du, u, semidisc, Val{true}())\n",
    "#@code_warntype HCL.add_flux_differences_inner_loop!(du, u, balance_law, fvol, Nx, Ny, p+1, basis.D, jacx, jacy, Val{false}())"
   ]
  },
  {
   "cell_type": "code",
   "execution_count": null,
   "metadata": {
    "collapsed": false
   },
   "outputs": [],
   "source": []
  },
  {
   "cell_type": "markdown",
   "metadata": {},
   "source": [
    "# Test Plotting"
   ]
  },
  {
   "cell_type": "code",
   "execution_count": null,
   "metadata": {
    "collapsed": false,
    "scrolled": false
   },
   "outputs": [],
   "source": [
    "import HyperbolicDiffEq; reload(\"HyperbolicDiffEq\")\n",
    "\n",
    "using Plots; pyplot()\n",
    "using LaTeXStrings\n",
    "\n",
    "HCL=HyperbolicDiffEq\n",
    "LobattoLegendre = HCL.LobattoLegendre; UniformPeriodicMesh1D = HCL.UniformPeriodicMesh1D\n",
    "compute_coefficients = HCL.compute_coefficients; evaluate_coefficients = HCL.evaluate_coefficients\n",
    "\n",
    "u₀(x,y) = sinpi(x)*sinpi(y); xmin=-1.; xmax=1.; ymin=-1.; ymax=1.\n",
    "#u₀(x,y) = (3x + y ^ 2) * abs(sin(x) + cos(y)); xmin=0.; xmax=20.; ymin=-0.; ymax=10.\n",
    "\n",
    "\n",
    "p = 9\n",
    "Nx = 10\n",
    "Ny = 10\n",
    "\n",
    "meshx = UniformPeriodicMesh1D(xmin, xmax, Nx)\n",
    "meshy = UniformPeriodicMesh1D(ymin, ymax, Ny)\n",
    "basis = LobattoLegendre(p)\n",
    "\n",
    "u0 = compute_coefficients(u₀, meshx, meshy, basis)\n",
    "xplot, yplot, uplot = evaluate_coefficients(u0, meshx, meshy, basis)\n",
    "\n",
    "\n",
    "#fig = plot(xguide=L\"x\", yguide=L\"y\")\n",
    "display(\"contour\")\n",
    "contour(xplot, yplot, uplot) |> display\n",
    "display(\"contour(..., fill=true)\")\n",
    "contour(xplot, yplot, uplot, fill=true) |> display\n",
    "display(\"heatmap\")\n",
    "heatmap(xplot, yplot, uplot) |> display\n",
    "display(\"surface\")\n",
    "surface(xplot, yplot, uplot) |> display\n",
    "display(\"contour3d\")\n",
    "contour3d(xplot, yplot, uplot) |> display\n",
    "display(\"wireframe\")\n",
    "wireframe(xplot, yplot, uplot) |> display\n",
    "display(\"wireframe(..., contours=true)\")\n",
    "wireframe(xplot, yplot, uplot, contours=true) |> display\n"
   ]
  },
  {
   "cell_type": "code",
   "execution_count": null,
   "metadata": {
    "collapsed": false
   },
   "outputs": [],
   "source": []
  },
  {
   "cell_type": "code",
   "execution_count": null,
   "metadata": {
    "collapsed": false
   },
   "outputs": [],
   "source": []
  }
 ],
 "metadata": {
  "kernelspec": {
   "display_name": "Julia 0.6.1-pre",
   "language": "julia",
   "name": "julia-0.6"
  },
  "language_info": {
   "file_extension": ".jl",
   "mimetype": "application/julia",
   "name": "julia",
   "version": "0.6.1"
  }
 },
 "nbformat": 4,
 "nbformat_minor": 0
}
