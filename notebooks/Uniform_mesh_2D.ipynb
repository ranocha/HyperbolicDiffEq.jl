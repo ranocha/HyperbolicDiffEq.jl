{
 "cells": [
  {
   "cell_type": "code",
   "execution_count": null,
   "metadata": {
    "collapsed": false
   },
   "outputs": [],
   "source": [
    "import HyperbolicDiffEq; reload(\"HyperbolicDiffEq\")\n",
    "using OrdinaryDiffEq\n",
    "\n",
    "using Plots; pyplot()\n",
    "using LaTeXStrings\n",
    "\n",
    "HCL=HyperbolicDiffEq\n",
    "LobattoLegendre = HCL.LobattoLegendre; UniformPeriodicMesh1D = HCL.UniformPeriodicMesh1D\n",
    "compute_coefficients = HCL.compute_coefficients; evaluate_coefficients = HCL.evaluate_coefficients\n",
    "semidiscretise = HCL.semidiscretise; UniformPeriodicFluxDiffDisc2D = HCL.UniformPeriodicFluxDiffDisc2D\n",
    "EnergyConservativeFlux = HCL.EnergyConservativeFlux; GodunovFLux = HCL.godunov\n",
    "EulerVar2D = HCL.EulerVar2D; conserved_variables = HCL.conserved_variables; SuliciuFlux=HCL.SuliciuFlux\n",
    "\n",
    "const γ = 1.4\n",
    "balance_law = HCL.Euler{Float64,2}(γ)\n",
    "\n",
    "ϱ₀(x,y)  = 1.\n",
    "vx₀(x,y) = sin(x)*cos(y)\n",
    "vy₀(x,y) = -cos(x)*sin(y)\n",
    "p₀(x,y)  = 100/γ + (cos(2x)+cos(2y))*3/16\n",
    "\n",
    "u₀(x,y) = conserved_variables(ϱ₀(x,y), vx₀(x,y), vy₀(x,y), p₀(x,y), balance_law)\n",
    "xmin=0.; xmax=2π; ymin=0.; ymax=2π\n",
    "\n",
    "fvol = EnergyConservativeFlux()\n",
    "fnum = SuliciuFlux()\n",
    "\n",
    "p = 0\n",
    "Nx = 50\n",
    "Ny = 50\n",
    "\n",
    "meshx = UniformPeriodicMesh1D(xmin, xmax, Nx)\n",
    "meshy = UniformPeriodicMesh1D(ymin, ymax, Ny)\n",
    "basis = LobattoLegendre(p)\n",
    "\n",
    "tspan = (0., 1.)\n",
    "semidisc = UniformPeriodicFluxDiffDisc2D(balance_law, meshx, meshy, basis, fvol, fnum, true)\n",
    "ode = semidiscretise(semidisc, u₀, tspan)\n",
    "\n",
    "#solve(ode, SSPRK104(), dt=tspan[end]-tspan[1], save_everystep=false)\n",
    "@time sol = solve(ode, SSPRK104(), dt=1/((2p+1)*max(Nx,Ny)), save_everystep=false);\n"
   ]
  },
  {
   "cell_type": "code",
   "execution_count": null,
   "metadata": {
    "collapsed": false
   },
   "outputs": [],
   "source": [
    "npoints = 10p+3\n",
    "\n",
    "\n",
    "xplot, yplot, uplot = evaluate_coefficients(sol[1], meshx, meshy, basis, npoints)\n",
    "heatmap((xplot, yplot, uplot, balance_law), cbar=true) |> display\n",
    "\n",
    "xplot, yplot, uplot = evaluate_coefficients(sol[end], meshx, meshy, basis, npoints)\n",
    "heatmap((xplot, yplot, uplot, balance_law), cbar=true) |> display\n"
   ]
  },
  {
   "cell_type": "code",
   "execution_count": null,
   "metadata": {
    "collapsed": false
   },
   "outputs": [],
   "source": []
  },
  {
   "cell_type": "code",
   "execution_count": null,
   "metadata": {
    "collapsed": false
   },
   "outputs": [],
   "source": []
  },
  {
   "cell_type": "markdown",
   "metadata": {},
   "source": [
    "# Test Burgers'"
   ]
  },
  {
   "cell_type": "code",
   "execution_count": null,
   "metadata": {
    "collapsed": false
   },
   "outputs": [],
   "source": [
    "import HyperbolicDiffEq; reload(\"HyperbolicDiffEq\")\n",
    "using OrdinaryDiffEq\n",
    "\n",
    "using Plots; pyplot()\n",
    "using LaTeXStrings\n",
    "\n",
    "HCL=HyperbolicDiffEq\n",
    "LobattoLegendre = HCL.LobattoLegendre; UniformPeriodicMesh1D = HCL.UniformPeriodicMesh1D\n",
    "compute_coefficients = HCL.compute_coefficients; evaluate_coefficients = HCL.evaluate_coefficients\n",
    "semidiscretise = HCL.semidiscretise; UniformPeriodicFluxDiffDisc2D = HCL.UniformPeriodicFluxDiffDisc2D\n",
    "EnergyConservativeFlux = HCL.EnergyConservativeFlux; GodunovFLux = HCL.godunov\n",
    "\n",
    "\n",
    "balance_law = HCL.Burgers{Float64,2}()\n",
    "u₀(x,y) = sinpi(x); xmin=0.; xmax=2.; ymin=-1.; ymax=1.\n",
    "\n",
    "fvol = EnergyConservativeFlux()\n",
    "fnum = GodunovFLux\n",
    "\n",
    "p = 1\n",
    "Nx = 50\n",
    "Ny = 50\n",
    "\n",
    "meshx = UniformPeriodicMesh1D(xmin, xmax, Nx)\n",
    "meshy = UniformPeriodicMesh1D(ymin, ymax, Ny)\n",
    "basis = LobattoLegendre(p)\n",
    "\n",
    "tspan = (0., 4.)\n",
    "semidisc = UniformPeriodicFluxDiffDisc2D(balance_law, meshx, meshy, basis, fvol, fnum, true)\n",
    "ode = semidiscretise(semidisc, u₀, tspan)\n",
    "\n",
    "solve(ode, SSPRK104(), dt=tspan[end]-tspan[1], save_everystep=false)\n",
    "@time sol = solve(ode, SSPRK104(), dt=1./((2p+1)*max(Nx,Ny)), save_everystep=false);\n"
   ]
  },
  {
   "cell_type": "code",
   "execution_count": null,
   "metadata": {
    "collapsed": false
   },
   "outputs": [],
   "source": [
    "npoints = 10p+3\n",
    "\n",
    "xplot, yplot, uplot = evaluate_coefficients(sol[1], meshx, meshy, basis, npoints)\n",
    "heatmap(xplot, yplot, uplot) |> display\n",
    "\n",
    "xplot, yplot, uplot = evaluate_coefficients(sol[end], meshx, meshy, basis, npoints)\n",
    "heatmap(xplot, yplot, uplot) |> display\n",
    "\n",
    "xplot, yplot, uplot = evaluate_coefficients(sol[end], meshx, meshy, basis, npoints)\n",
    "plot(xplot, uplot[npoints÷2+1,:]) |> display"
   ]
  },
  {
   "cell_type": "code",
   "execution_count": null,
   "metadata": {
    "collapsed": false,
    "scrolled": false
   },
   "outputs": [],
   "source": [
    "using BenchmarkTools\n",
    "\n",
    "reload(\"HyperbolicDiffEq\")\n",
    "\n",
    "u = copy(ode.u0)\n",
    "du = zeros(u)\n",
    "jacx = 2 / semidisc.meshx.Δx\n",
    "jacy = 2 / semidisc.meshy.Δx\n",
    "direction = Val{:x}()\n",
    "\n",
    "#usethreads = Val{true}()\n",
    "#usethreads = Val{false}()\n",
    "\n",
    "#@benchmark HCL.add_flux_differences!(du, u, semidisc)\n",
    "@benchmark HCL.add_numerical_fluxes!(du, u, semidisc)\n",
    "\n",
    "#@benchmark fvol(1., 6., balance_law, direction)\n",
    "#@code_native fvol(1., 6., balance_law, direction)\n",
    "#@benchmark fnum(1., 6., balance_law, direction)\n",
    "#@code_native fnum(1., 6., balance_law, direction)\n",
    "\n",
    "#@code_warntype HCL.add_flux_differences!(du, u, semidisc, Val{true}())\n",
    "#@code_warntype HCL.add_flux_differences_inner_loop!(du, u, balance_law, fvol, Nx, Ny, p+1, basis.D, jacx, jacy, Val{false}())"
   ]
  },
  {
   "cell_type": "code",
   "execution_count": null,
   "metadata": {
    "collapsed": false
   },
   "outputs": [],
   "source": []
  },
  {
   "cell_type": "markdown",
   "metadata": {},
   "source": [
    "# Test Plotting"
   ]
  },
  {
   "cell_type": "code",
   "execution_count": null,
   "metadata": {
    "collapsed": false,
    "scrolled": false
   },
   "outputs": [],
   "source": [
    "import HyperbolicDiffEq; reload(\"HyperbolicDiffEq\")\n",
    "\n",
    "using Plots; pyplot()\n",
    "using LaTeXStrings\n",
    "\n",
    "HCL=HyperbolicDiffEq\n",
    "LobattoLegendre = HCL.LobattoLegendre; UniformPeriodicMesh1D = HCL.UniformPeriodicMesh1D\n",
    "compute_coefficients = HCL.compute_coefficients; evaluate_coefficients = HCL.evaluate_coefficients\n",
    "\n",
    "u₀(x,y) = sinpi(x)*sinpi(y); xmin=-1.; xmax=1.; ymin=-1.; ymax=1.\n",
    "#u₀(x,y) = (3x + y ^ 2) * abs(sin(x) + cos(y)); xmin=0.; xmax=20.; ymin=-0.; ymax=10.\n",
    "\n",
    "\n",
    "p = 9\n",
    "Nx = 10\n",
    "Ny = 10\n",
    "\n",
    "meshx = UniformPeriodicMesh1D(xmin, xmax, Nx)\n",
    "meshy = UniformPeriodicMesh1D(ymin, ymax, Ny)\n",
    "basis = LobattoLegendre(p)\n",
    "\n",
    "u0 = compute_coefficients(u₀, meshx, meshy, basis)\n",
    "xplot, yplot, uplot = evaluate_coefficients(u0, meshx, meshy, basis)\n",
    "\n",
    "\n",
    "#fig = plot(xguide=L\"x\", yguide=L\"y\")\n",
    "display(\"contour\")\n",
    "contour(xplot, yplot, uplot) |> display\n",
    "display(\"contour(..., fill=true)\")\n",
    "contour(xplot, yplot, uplot, fill=true) |> display\n",
    "display(\"heatmap\")\n",
    "heatmap(xplot, yplot, uplot) |> display\n",
    "display(\"surface\")\n",
    "surface(xplot, yplot, uplot) |> display\n",
    "display(\"contour3d\")\n",
    "contour3d(xplot, yplot, uplot) |> display\n",
    "display(\"wireframe\")\n",
    "wireframe(xplot, yplot, uplot) |> display\n",
    "display(\"wireframe(..., contours=true)\")\n",
    "wireframe(xplot, yplot, uplot, contours=true) |> display\n"
   ]
  },
  {
   "cell_type": "code",
   "execution_count": null,
   "metadata": {
    "collapsed": false
   },
   "outputs": [],
   "source": []
  },
  {
   "cell_type": "code",
   "execution_count": null,
   "metadata": {
    "collapsed": false
   },
   "outputs": [],
   "source": []
  }
 ],
 "metadata": {
  "kernelspec": {
   "display_name": "Julia 0.6.1-pre",
   "language": "julia",
   "name": "julia-0.6"
  },
  "language_info": {
   "file_extension": ".jl",
   "mimetype": "application/julia",
   "name": "julia",
   "version": "0.6.1"
  }
 },
 "nbformat": 4,
 "nbformat_minor": 0
}
