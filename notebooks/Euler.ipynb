{
 "cells": [
  {
   "cell_type": "markdown",
   "metadata": {},
   "source": [
    "# Euler Equations\n",
    "\n",
    "The Euler equations of gas dynamics in one space dimension are\n",
    "$$\n",
    "  \\partial_t\n",
    "  \\underbrace{\n",
    "  \\begin{pmatrix}\n",
    "    \\rho\n",
    "    \\\\\n",
    "    \\rho v\n",
    "    \\\\\n",
    "    \\rho e\n",
    "  \\end{pmatrix}\n",
    "  }_{= u}\n",
    "  + \\,\\partial_x\n",
    "  \\underbrace{\n",
    "  \\begin{pmatrix}\n",
    "    \\rho v\n",
    "    \\\\\n",
    "    \\rho v^2 + p\n",
    "    \\\\\n",
    "    (\\rho e + p) v\n",
    "  \\end{pmatrix}\n",
    "  }_{= f(u)}\n",
    "  =\n",
    "  0,\n",
    "$$\n",
    "where $\\rho$ is the density of the gas, $v$ its speed, $\\rho v$ the\n",
    "momentum, $e$ the specific total energy, and $p$ the pressure. The total energy \n",
    "$\\rho e$ can be decomposed into the internal energy $\\rho \\epsilon$ and the kinetic\n",
    "energy $\\frac{1}{2} \\rho v^2$, i.e. $\\rho e = \\rho \\epsilon + \\frac{1}{2} \\rho v^2$.\n",
    "For a perfect gas,\n",
    "$$\n",
    "  p\n",
    "  = \\rho R T\n",
    "  = (\\gamma-1) \\rho \\epsilon\n",
    "  = (\\gamma-1) \\left( \\rho e - \\frac{1}{2} \\rho v^2 \\right),\n",
    "$$\n",
    "where $R$ is the gas constant, $T$ the (absolute) temperature, and $\\gamma$ the\n",
    "ratio of specific heats. For air, $\\gamma = 1.4$ will be used, unless stated\n",
    "otherwise."
   ]
  },
  {
   "cell_type": "markdown",
   "metadata": {},
   "source": [
    "## Test Problems from Toro (2009): Riemann Solvers and Numerical Methods for Fluid Dynamics"
   ]
  },
  {
   "cell_type": "markdown",
   "metadata": {},
   "source": [
    "### Test Problem 1 on page 129"
   ]
  },
  {
   "cell_type": "code",
   "execution_count": null,
   "metadata": {},
   "outputs": [],
   "source": [
    "using Plots, LaTeXStrings; pyplot()\n",
    "using HyperbolicDiffEq\n",
    "\n",
    "model = Euler()\n",
    "# ϱₗ = 1.0, vₗ = 0.0, pₗ = 1.0\n",
    "uₗ = conserved_variables(1.0, 0.0, 1.0, model)\n",
    "# ϱᵣ = 0.125, vᵣ = 0.0, pᵣ = 0.1\n",
    "uᵣ = conserved_variables(0.125, 0.0, 0.1, model)\n",
    "sol = solve(RiemannProblem(model, uₗ, uᵣ))\n",
    "show(sol)\n",
    "plot(sol)"
   ]
  },
  {
   "cell_type": "markdown",
   "metadata": {},
   "source": [
    "### Test Problem 2 on page 129"
   ]
  },
  {
   "cell_type": "code",
   "execution_count": null,
   "metadata": {},
   "outputs": [],
   "source": [
    "using Plots, LaTeXStrings; pyplot()\n",
    "using HyperbolicDiffEq\n",
    "\n",
    "model = Euler()\n",
    "uₗ = conserved_variables(1.0, -2.0, 0.4, model)\n",
    "uᵣ = conserved_variables(1.0,  2.0, 0.4, model)\n",
    "sol = solve(RiemannProblem(model, uₗ, uᵣ))\n",
    "show(sol)\n",
    "plot(sol)"
   ]
  },
  {
   "cell_type": "markdown",
   "metadata": {},
   "source": [
    "### Test Problem 3 on page 129"
   ]
  },
  {
   "cell_type": "code",
   "execution_count": null,
   "metadata": {},
   "outputs": [],
   "source": [
    "using Plots, LaTeXStrings; pyplot()\n",
    "using HyperbolicDiffEq\n",
    "\n",
    "model = Euler()\n",
    "uₗ = conserved_variables(1.0, 0.0, 1000.0, model)\n",
    "uᵣ = conserved_variables(1.0, 0.0, 0.01, model)\n",
    "sol = solve(RiemannProblem(model, uₗ, uᵣ))\n",
    "show(sol)\n",
    "plot(sol)"
   ]
  },
  {
   "cell_type": "markdown",
   "metadata": {},
   "source": [
    "### Test Problem 4 on page 129"
   ]
  },
  {
   "cell_type": "code",
   "execution_count": null,
   "metadata": {},
   "outputs": [],
   "source": [
    "using Plots, LaTeXStrings; pyplot()\n",
    "using HyperbolicDiffEq\n",
    "\n",
    "model = Euler()\n",
    "uₗ = conserved_variables(1.0, 0.0, 0.01, model)\n",
    "uᵣ = conserved_variables(1.0, 0.0, 100.0, model)\n",
    "sol = solve(RiemannProblem(model, uₗ, uᵣ))\n",
    "show(sol)\n",
    "plot(sol)"
   ]
  },
  {
   "cell_type": "markdown",
   "metadata": {},
   "source": [
    "### Test Problem 5 on page 129"
   ]
  },
  {
   "cell_type": "code",
   "execution_count": null,
   "metadata": {},
   "outputs": [],
   "source": [
    "using Plots, LaTeXStrings; pyplot()\n",
    "using HyperbolicDiffEq\n",
    "\n",
    "model = Euler()\n",
    "uₗ = conserved_variables(5.99924, 19.5975, 460.894, model)\n",
    "uᵣ = conserved_variables(5.99242, -6.19633, 46.0950, model)\n",
    "sol = solve(RiemannProblem(model, uₗ, uᵣ))\n",
    "show(sol)\n",
    "plot(sol)"
   ]
  },
  {
   "cell_type": "markdown",
   "metadata": {},
   "source": [
    "### Vacuum Appears"
   ]
  },
  {
   "cell_type": "code",
   "execution_count": null,
   "metadata": {},
   "outputs": [],
   "source": [
    "using Plots, LaTeXStrings; pyplot()\n",
    "using HyperbolicDiffEq\n",
    "\n",
    "model = Euler()\n",
    "uₗ = conserved_variables(1.0, -1.0, 1.0, model)\n",
    "uᵣ = conserved_variables(1.0,  1.0, 1.0, model)\n",
    "sol = solve(RiemannProblem(model, uₗ, uᵣ))\n",
    "show(sol)\n",
    "plot(sol)"
   ]
  }
 ],
 "metadata": {
  "kernelspec": {
   "display_name": "Julia 0.6.1-pre",
   "language": "julia",
   "name": "julia-0.6"
  },
  "language_info": {
   "file_extension": ".jl",
   "mimetype": "application/julia",
   "name": "julia",
   "version": "0.6.2"
  }
 },
 "nbformat": 4,
 "nbformat_minor": 1
}
